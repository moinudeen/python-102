{
 "cells": [
  {
   "cell_type": "code",
   "execution_count": 52,
   "metadata": {
    "collapsed": true
   },
   "outputs": [],
   "source": [
    "from guppy import hpy\n",
    "import itertools"
   ]
  },
  {
   "cell_type": "code",
   "execution_count": 137,
   "metadata": {
    "collapsed": true
   },
   "outputs": [],
   "source": [
    "hp = hpy()\n",
    "start = hp.heap()\n",
    "hp.setrelheap()"
   ]
  },
  {
   "cell_type": "code",
   "execution_count": 138,
   "metadata": {},
   "outputs": [
    {
     "name": "stdout",
     "output_type": "stream",
     "text": [
      "Partition of a set of 190942 objects. Total size = 26482168 bytes.\n",
      " Index  Count   %     Size   % Cumulative  % Kind (class / dict of class)\n",
      "     0  85544  45  7605432  29   7605432  29 str\n",
      "     1  44908  24  3784176  14  11389608  43 tuple\n",
      "     2   2576   1  1999232   8  13388840  51 dict (no owner)\n",
      "     3    606   0  1631184   6  15020024  57 dict of module\n",
      "     4  10461   5  1339008   5  16359032  62 types.CodeType\n",
      "     5   7105   4  1289776   5  17648808  67 unicode\n",
      "     6  10154   5  1218480   5  18867288  71 function\n",
      "     7   1118   1  1010224   4  19877512  75 type\n",
      "     8   1118   1   928208   4  20805720  79 dict of type\n",
      "     9   3384   2   523776   2  21329496  81 list\n",
      "<703 more rows. Type e.g. '_.more' to view.>\n"
     ]
    }
   ],
   "source": [
    "print start"
   ]
  },
  {
   "cell_type": "code",
   "execution_count": 139,
   "metadata": {},
   "outputs": [],
   "source": [
    "long_str = ''"
   ]
  },
  {
   "cell_type": "code",
   "execution_count": 140,
   "metadata": {},
   "outputs": [],
   "source": [
    "for p in itertools.permutations('012345678'):\n",
    "    x = ''.join(p)\n",
    "    long_str+=x"
   ]
  },
  {
   "cell_type": "code",
   "execution_count": 141,
   "metadata": {},
   "outputs": [
    {
     "name": "stdout",
     "output_type": "stream",
     "text": [
      "3265920\n"
     ]
    }
   ],
   "source": [
    "end = hp.heap()\n",
    "print len(long_str)"
   ]
  },
  {
   "cell_type": "code",
   "execution_count": 142,
   "metadata": {},
   "outputs": [
    {
     "name": "stdout",
     "output_type": "stream",
     "text": [
      "Partition of a set of 473 objects. Total size = 3513536 bytes.\n",
      " Index  Count   %     Size   % Cumulative  % Kind (class / dict of class)\n",
      "     0     64  14  3270280  93   3270280  93 str\n",
      "     1      1   0   144752   4   3415032  97 guppy.heapy.heapyc.NodeGraph\n",
      "     2     89  19    34904   1   3449936  98 dict (no owner)\n",
      "     3     22   5    13072   0   3463008  99 dict of guppy.etc.Glue.Interface\n",
      "     4     16   3     8952   0   3471960  99 types.FrameType\n",
      "     5      6   1     6288   0   3478248  99 dict of guppy.etc.Glue.Share\n",
      "     6     35   7     4624   0   3482872  99 unicode\n",
      "     7     14   3     3920   0   3486792  99 dict of guppy.etc.Glue.Owner\n",
      "     8     24   5     2816   0   3489608  99 list\n",
      "     9     34   7     2720   0   3492328  99 types.MethodType\n",
      "<45 more rows. Type e.g. '_.more' to view.>\n"
     ]
    }
   ],
   "source": [
    "print  end - start"
   ]
  },
  {
   "cell_type": "code",
   "execution_count": 143,
   "metadata": {},
   "outputs": [
    {
     "name": "stdout",
     "output_type": "stream",
     "text": [
      "Partition of a set of 168 objects. Total size = 31392 bytes.\n",
      " Index  Count   %     Size   % Cumulative  % Kind (class / dict of class)\n",
      "     0     16  10     8808  28      8808  28 types.FrameType\n",
      "     1     14   8     6224  20     15032  48 dict (no owner)\n",
      "     2     27  16     3184  10     18216  58 unicode\n",
      "     3     19  11     2200   7     20416  65 list\n",
      "     4     21  12     2064   7     22480  72 str\n",
      "     5      7   4     1344   4     23824  76 zmq.sugar.frame.Frame\n",
      "     6     18  11     1296   4     25120  80 tuple\n",
      "     7      1   1     1048   3     26168  83 dict of _ast.Call\n",
      "     8      3   2      840   3     27008  86 dict of _ast.Name\n",
      "     9      2   1      560   2     27568  88 dict of _ast.Module\n",
      "<24 more rows. Type e.g. '_.more' to view.>\n"
     ]
    }
   ],
   "source": [
    "del long_str\n",
    "print  hp.heap() - end"
   ]
  },
  {
   "cell_type": "code",
   "execution_count": 144,
   "metadata": {
    "collapsed": true
   },
   "outputs": [],
   "source": [
    "def gen_permutations():\n",
    "    for p in itertools.permutations('012345678'):\n",
    "        x = ''.join(p)\n",
    "        yield x     #generates value one by one"
   ]
  },
  {
   "cell_type": "code",
   "execution_count": 145,
   "metadata": {
    "collapsed": true
   },
   "outputs": [],
   "source": [
    "perm = gen_permutations()"
   ]
  },
  {
   "cell_type": "code",
   "execution_count": 146,
   "metadata": {},
   "outputs": [
    {
     "name": "stdout",
     "output_type": "stream",
     "text": [
      "Partition of a set of 564 objects. Total size = 258608 bytes.\n",
      " Index  Count   %     Size   % Cumulative  % Kind (class / dict of class)\n",
      "     0      1   0   144864  56    144864  56 guppy.heapy.heapyc.NodeGraph\n",
      "     1     80  14    30848  12    175712  68 dict (no owner)\n",
      "     2     22   4    13072   5    188784  73 dict of guppy.etc.Glue.Interface\n",
      "     3     17   3     9336   4    198120  77 types.FrameType\n",
      "     4     57  10     9128   4    207248  80 unicode\n",
      "     5     93  16     7264   3    214512  83 str\n",
      "     6      6   1     6288   2    220800  85 dict of guppy.etc.Glue.Share\n",
      "     7     14   2     3920   2    224720  87 dict of guppy.etc.Glue.Owner\n",
      "     8     30   5     3696   1    228416  88 list\n",
      "     9     41   7     3104   1    231520  90 tuple\n",
      "<54 more rows. Type e.g. '_.more' to view.>\n"
     ]
    }
   ],
   "source": [
    "long_str = ''\n",
    "start = hp.heap()\n",
    "print start"
   ]
  },
  {
   "cell_type": "code",
   "execution_count": 151,
   "metadata": {
    "collapsed": true
   },
   "outputs": [],
   "source": [
    "for i in perm:\n",
    "    long_str+=i\n",
    "    "
   ]
  },
  {
   "cell_type": "code",
   "execution_count": 152,
   "metadata": {},
   "outputs": [
    {
     "data": {
      "text/plain": [
       "3265920"
      ]
     },
     "execution_count": 152,
     "metadata": {},
     "output_type": "execute_result"
    }
   ],
   "source": [
    "len(long_str)"
   ]
  },
  {
   "cell_type": "code",
   "execution_count": 153,
   "metadata": {
    "collapsed": true
   },
   "outputs": [],
   "source": [
    "end = hp.heap()"
   ]
  },
  {
   "cell_type": "code",
   "execution_count": 154,
   "metadata": {},
   "outputs": [
    {
     "name": "stdout",
     "output_type": "stream",
     "text": [
      "Partition of a set of 217 objects. Total size = 3300960 bytes.\n",
      " Index  Count   %     Size   % Cumulative  % Kind (class / dict of class)\n",
      "     0     40  18  3269248  99   3269248  99 str\n",
      "     1     22  10     9232   0   3278480  99 dict (no owner)\n",
      "     2     16   7     8904   0   3287384 100 types.FrameType\n",
      "     3     47  22     5352   0   3292736 100 unicode\n",
      "     4     23  11     2744   0   3295480 100 list\n",
      "     5     23  11     1736   0   3297216 100 tuple\n",
      "     6      7   3     1344   0   3298560 100 zmq.sugar.frame.Frame\n",
      "     7      3   1      360   0   3298920 100 function\n",
      "     8      6   3      336   0   3299256 100 __builtin__.cell\n",
      "     9      2   1      256   0   3299512 100 _io.StringIO\n",
      "<14 more rows. Type e.g. '_.more' to view.>\n"
     ]
    }
   ],
   "source": [
    "used = end - start\n",
    "print used"
   ]
  },
  {
   "cell_type": "code",
   "execution_count": 160,
   "metadata": {},
   "outputs": [
    {
     "ename": "NameError",
     "evalue": "name 'long_str' is not defined",
     "output_type": "error",
     "traceback": [
      "\u001b[0;31m---------------------------------------------------------------------------\u001b[0m",
      "\u001b[0;31mNameError\u001b[0m                                 Traceback (most recent call last)",
      "\u001b[0;32m<ipython-input-160-578465fdab72>\u001b[0m in \u001b[0;36m<module>\u001b[0;34m()\u001b[0m\n\u001b[0;32m----> 1\u001b[0;31m \u001b[0;32mdel\u001b[0m \u001b[0mlong_str\u001b[0m\u001b[0;34m\u001b[0m\u001b[0m\n\u001b[0m\u001b[1;32m      2\u001b[0m \u001b[0mlong_str\u001b[0m \u001b[0;34m=\u001b[0m \u001b[0;34m''\u001b[0m\u001b[0;34m\u001b[0m\u001b[0m\n",
      "\u001b[0;31mNameError\u001b[0m: name 'long_str' is not defined"
     ]
    }
   ],
   "source": [
    "del long_str\n",
    "long_str = ''"
   ]
  },
  {
   "cell_type": "code",
   "execution_count": 173,
   "metadata": {},
   "outputs": [
    {
     "name": "stdout",
     "output_type": "stream",
     "text": [
      "Partition of a set of 1 object. Total size = 80 bytes.\n",
      " Index  Count   %     Size   % Cumulative  % Kind (class / dict of class)\n",
      "     0      1 100       80 100        80 100 guppy.heapy.heapyc.NodeGraph\n",
      "Partition of a set of 3628803 objects. Total size = 174182568 bytes.\n",
      " Index  Count   %     Size   % Cumulative  % Kind (class / dict of class)\n",
      "     0 3628803 100 174182568 100 174182568 100 str\n"
     ]
    }
   ],
   "source": [
    "#list comprehension - single line for loops to fill a list\n",
    "start = hp.heap()\n",
    "print start[0]\n",
    "x = [''.join(p) for p in itertools.permutations('0123456789')]\n",
    "end = hp.heap()\n",
    "used = end - start\n"
   ]
  },
  {
   "cell_type": "code",
   "execution_count": 174,
   "metadata": {},
   "outputs": [
    {
     "name": "stdout",
     "output_type": "stream",
     "text": [
      "Partition of a set of 3628824 objects. Total size = 203546152 bytes.\n",
      " Index  Count   %     Size   % Cumulative  % Kind (class / dict of class)\n",
      "     0 3628803 100 174182568  86 174182568  86 str\n",
      "     1      5   0 29360680  14 203543248 100 list\n",
      "     2      3   0     1512   0 203544760 100 types.FrameType\n",
      "     3      2   0      560   0 203545320 100 dict (no owner)\n",
      "     4      4   0      352   0 203545672 100 tuple\n",
      "     5      1   0      128   0 203545800 100 _io.StringIO\n",
      "     6      1   0      128   0 203545928 100 types.CodeType\n",
      "     7      1   0       80   0 203546008 100 types.MethodType\n",
      "     8      1   0       64   0 203546072 100 _ast.Module\n",
      "     9      1   0       32   0 203546104 100 thread.lock\n",
      "<2 more rows. Type e.g. '_.more' to view.>\n"
     ]
    }
   ],
   "source": [
    "print used"
   ]
  },
  {
   "cell_type": "code",
   "execution_count": 175,
   "metadata": {},
   "outputs": [
    {
     "name": "stdout",
     "output_type": "stream",
     "text": [
      "<type 'list'>\n"
     ]
    }
   ],
   "source": [
    "# we have a list now\n",
    "print type(x)\n",
    "del x"
   ]
  },
  {
   "cell_type": "code",
   "execution_count": 176,
   "metadata": {},
   "outputs": [
    {
     "name": "stdout",
     "output_type": "stream",
     "text": [
      "Partition of a set of 1 object. Total size = 80 bytes.\n",
      " Index  Count   %     Size   % Cumulative  % Kind (class / dict of class)\n",
      "     0      1 100       80 100        80 100 guppy.heapy.heapyc.NodeGraph\n"
     ]
    }
   ],
   "source": [
    "#same task using using generators like a List Comprehension \n",
    "start = hp.heap()\n",
    "print start[0]\n",
    "x = (''.join(p) for p in itertools.permutations('012345678'))\n",
    "end = hp.heap()\n",
    "used = end - start\n"
   ]
  },
  {
   "cell_type": "code",
   "execution_count": 177,
   "metadata": {},
   "outputs": [
    {
     "name": "stdout",
     "output_type": "stream",
     "text": [
      "Partition of a set of 43 objects. Total size = 6192 bytes.\n",
      " Index  Count   %     Size   % Cumulative  % Kind (class / dict of class)\n",
      "     0      4   9     1944  31      1944  31 types.FrameType\n",
      "     1      2   5      920  15      2864  46 unicode\n",
      "     2     10  23      760  12      3624  59 tuple\n",
      "     3      2   5      560   9      4184  68 dict (no owner)\n",
      "     4      9  21      520   8      4704  76 str\n",
      "     5      3   7      360   6      5064  82 function\n",
      "     6      5  12      280   5      5344  86 __builtin__.cell\n",
      "     7      2   5      272   4      5616  91 list\n",
      "     8      2   5      256   4      5872  95 types.CodeType\n",
      "     9      1   2       96   2      5968  96 itertools.permutations\n",
      "<3 more rows. Type e.g. '_.more' to view.>\n"
     ]
    }
   ],
   "source": [
    "#now lets check the memory usage\n",
    "print used"
   ]
  },
  {
   "cell_type": "code",
   "execution_count": 180,
   "metadata": {},
   "outputs": [
    {
     "name": "stdout",
     "output_type": "stream",
     "text": [
      "<type 'generator'>\n"
     ]
    }
   ],
   "source": [
    "#but..... what is generator?\n",
    "print type(x)"
   ]
  },
  {
   "cell_type": "code",
   "execution_count": 179,
   "metadata": {
    "collapsed": true
   },
   "outputs": [],
   "source": [
    "#a generator is a "
   ]
  },
  {
   "cell_type": "code",
   "execution_count": null,
   "metadata": {
    "collapsed": true
   },
   "outputs": [],
   "source": []
  }
 ],
 "metadata": {
  "kernelspec": {
   "display_name": "Python 2",
   "language": "python",
   "name": "python2"
  },
  "language_info": {
   "codemirror_mode": {
    "name": "ipython",
    "version": 2
   },
   "file_extension": ".py",
   "mimetype": "text/x-python",
   "name": "python",
   "nbconvert_exporter": "python",
   "pygments_lexer": "ipython2",
   "version": "2.7.12"
  }
 },
 "nbformat": 4,
 "nbformat_minor": 2
}
