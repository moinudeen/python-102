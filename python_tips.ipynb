{
 "cells": [
  {
   "cell_type": "markdown",
   "metadata": {},
   "source": [
    "# Topics\n",
    "-- python Datatypes\n",
    "-- generators\n",
    "-- decorators\n",
    "-- profiling"
   ]
  },
  {
   "cell_type": "code",
   "execution_count": 24,
   "metadata": {},
   "outputs": [],
   "source": [
    "import random\n",
    "import string\n",
    "import time"
   ]
  },
  {
   "cell_type": "code",
   "execution_count": 12,
   "metadata": {},
   "outputs": [],
   "source": [
    "chars = string.ascii_lowercase\n",
    "x = ''.join(random.choice(chars) for x in range(random.randint(8, 10)))"
   ]
  },
  {
   "cell_type": "raw",
   "metadata": {},
   "source": []
  },
  {
   "cell_type": "code",
   "execution_count": 13,
   "metadata": {},
   "outputs": [
    {
     "name": "stdout",
     "output_type": "stream",
     "text": [
      "eewfpknlw\n"
     ]
    }
   ],
   "source": [
    "print x"
   ]
  },
  {
   "cell_type": "code",
   "execution_count": 33,
   "metadata": {},
   "outputs": [],
   "source": [
    "lower = []\n",
    "for i in range(5000):\n",
    "    x = ''.join(random.choice(chars) for x in range(random.randint(8, 10)))\n",
    "    lower.append(x)"
   ]
  },
  {
   "cell_type": "code",
   "execution_count": 17,
   "metadata": {},
   "outputs": [
    {
     "data": {
      "text/plain": [
       "['ajlmkdfs',\n",
       " 'xtovopndf',\n",
       " 'hhotdhbqqd',\n",
       " 'tllefbct',\n",
       " 'nklhefoj',\n",
       " 'fmbraxwmt',\n",
       " 'ojmjierfe',\n",
       " 'lbgvookm',\n",
       " 'wjabnbbi',\n",
       " 'boypblfkpb']"
      ]
     },
     "execution_count": 17,
     "metadata": {},
     "output_type": "execute_result"
    }
   ],
   "source": []
  },
  {
   "cell_type": "code",
   "execution_count": 34,
   "metadata": {},
   "outputs": [
    {
     "name": "stdout",
     "output_type": "stream",
     "text": [
      "time taken:  0.0021059513092\n"
     ]
    }
   ],
   "source": [
    "st= time.time()\n",
    "caps = [] \n",
    "for word in lower:\n",
    "    caps.append(word.upper())\n",
    "print 'time taken: ',time.time()-st"
   ]
  },
  {
   "cell_type": "code",
   "execution_count": 20,
   "metadata": {},
   "outputs": [
    {
     "data": {
      "text/plain": [
       "['AJLMKDFS',\n",
       " 'XTOVOPNDF',\n",
       " 'HHOTDHBQQD',\n",
       " 'TLLEFBCT',\n",
       " 'NKLHEFOJ',\n",
       " 'FMBRAXWMT',\n",
       " 'OJMJIERFE',\n",
       " 'LBGVOOKM',\n",
       " 'WJABNBBI',\n",
       " 'BOYPBLFKPB']"
      ]
     },
     "execution_count": 20,
     "metadata": {},
     "output_type": "execute_result"
    }
   ],
   "source": [
    "\n"
   ]
  },
  {
   "cell_type": "code",
   "execution_count": 35,
   "metadata": {},
   "outputs": [
    {
     "name": "stdout",
     "output_type": "stream",
     "text": [
      "time taken:  0.00144386291504\n"
     ]
    }
   ],
   "source": [
    "st= time.time()\n",
    "caps1 = map(str.upper,lower)\n",
    "print 'time taken: ',time.time()-st"
   ]
  },
  {
   "cell_type": "code",
   "execution_count": 22,
   "metadata": {},
   "outputs": [
    {
     "data": {
      "text/plain": [
       "['AJLMKDFS',\n",
       " 'XTOVOPNDF',\n",
       " 'HHOTDHBQQD',\n",
       " 'TLLEFBCT',\n",
       " 'NKLHEFOJ',\n",
       " 'FMBRAXWMT',\n",
       " 'OJMJIERFE',\n",
       " 'LBGVOOKM',\n",
       " 'WJABNBBI',\n",
       " 'BOYPBLFKPB']"
      ]
     },
     "execution_count": 22,
     "metadata": {},
     "output_type": "execute_result"
    }
   ],
   "source": []
  },
  {
   "cell_type": "code",
   "execution_count": null,
   "metadata": {
    "collapsed": true
   },
   "outputs": [],
   "source": []
  }
 ],
 "metadata": {
  "kernelspec": {
   "display_name": "Python 2",
   "language": "python",
   "name": "python2"
  },
  "language_info": {
   "codemirror_mode": {
    "name": "ipython",
    "version": 2
   },
   "file_extension": ".py",
   "mimetype": "text/x-python",
   "name": "python",
   "nbconvert_exporter": "python",
   "pygments_lexer": "ipython2",
   "version": "2.7.12"
  }
 },
 "nbformat": 4,
 "nbformat_minor": 2
}
